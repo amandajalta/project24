{
 "cells": [
  {
   "cell_type": "markdown",
   "id": "ff71b16d",
   "metadata": {},
   "source": [
    "# README: Cultural Heritage Data Integration and Query System"
   ]
  },
  {
   "cell_type": "markdown",
   "id": "7b1772c3",
   "metadata": {},
   "source": [
    "## Project Overview\n",
    "This project integrates and queries cultural heritage data from multiple sources using both relational and graph database systems. The goal is to enable complex querying over structured metadata and processing data by leveraging both linked data (RDF) and traditional tabular structures (SQL).\n",
    "\n",
    "It combines data from **JSON** and **CSV** files and loads them into:\n",
    "- A **SQLite database** (for relational queries)\n",
    "- A **Blazegraph triple store** (for SPARQL queries)"
   ]
  },
  {
   "cell_type": "markdown",
   "id": "9d42c12a",
   "metadata": {},
   "source": [
    "## Data Sources\n",
    "- `metadata/` – JSON files describing cultural heritage objects (authors, timeframes, etc.)\n",
    "- `processing/` – CSV files including acquisition dates, processing statuses, etc."
   ]
  },
  {
   "cell_type": "markdown",
   "id": "9a29efc1",
   "metadata": {},
   "source": [
    "## Tools & Technologies\n",
    "- Python 3\n",
    "- pandas\n",
    "- SQLite\n",
    "- Blazegraph\n",
    "- rdflib\n",
    "- Custom Python classes (in `impl/` directory)"
   ]
  },
  {
   "cell_type": "markdown",
   "id": "134503c8",
   "metadata": {},
   "source": [
    "## Repository Structure\n",
    "```\n",
    "impl/\n",
    "  ├── MetadataQueryHandler.py\n",
    "  ├── ProcessDataQueryHandler.py\n",
    "  └── AdvancedMashup.py\n",
    "\n",
    "data/\n",
    "  ├── metadata/     # JSON files\n",
    "  └── processing/   # CSV files\n",
    "\n",
    "relational.db       # SQLite database\n",
    "README.ipynb        # This notebook\n",
    "```"
   ]
  },
  {
   "cell_type": "markdown",
   "id": "30f7df8f",
   "metadata": {},
   "source": [
    "## Key Features\n",
    "- Modular query classes for SPARQL and SQL queries\n",
    "- Combined queries via a unified mashup interface\n",
    "- Parsing and transformation with pandas\n",
    "- Flexible integration between graph and relational data"
   ]
  },
  {
   "cell_type": "markdown",
   "id": "64272273",
   "metadata": {},
   "source": [
    "## Example Use Case"
   ]
  },
  {
   "cell_type": "code",
   "execution_count": null,
   "id": "a4c39ccd",
   "metadata": {},
   "outputs": [],
   "source": [
    "from impl import MetadataQueryHandler, ProcessDataQueryHandler, AdvancedMashup\n",
    "\n",
    "metadata_qh = MetadataQueryHandler()\n",
    "metadata_qh.setDbPathOrUrl(\"http://127.0.0.1:9999/blazegraph/sparql\")\n",
    "\n",
    "process_qh = ProcessDataQueryHandler()\n",
    "process_qh.setDbPathOrUrl(\"relational.db\")\n",
    "\n",
    "mashup = AdvancedMashup([metadata_qh], [process_qh])\n",
    "\n",
    "# Get authors of objects acquired in April 2023\n",
    "authors = mashup.getAuthorsOfObjectsAcquiredInTimeFrame(\"2023-04-01\", \"2023-04-30\")\n",
    "print(authors)"
   ]
  },
  {
   "cell_type": "markdown",
   "id": "930eaf5d",
   "metadata": {},
   "source": [
    "## Installation & Setup\n",
    "1. Clone the repo and open the notebook\n",
    "2. Install dependencies:\n",
    "```bash\n",
    "pip install pandas rdflib\n",
    "```\n",
    "3. Start Blazegraph locally (on port `9999`)\n",
    "4. Load data into both systems using provided scripts\n",
    "5. Use the `MetadataQueryHandler`, `ProcessDataQueryHandler`, and `AdvancedMashup` to explore"
   ]
  },
  {
   "cell_type": "markdown",
   "id": "f5c7af8d",
   "metadata": {},
   "source": [
    "## Data BARK\" members:\n",
    "\n",
    "Benjamin Kollmar [benjamin.kollmar@studio.unibo.it]\n",
    "Amanda Altamirano [amanda.altamirano@studio.unibo.it]\n",
    "Rubens Fernandes [rubens.fernandes@studio.unibo.it]\n",
    "Ekaterina Krasnova [ekaterina.krasnova@studio.unibo.it]\n",
    "Instructor: Silvio Peroni"
   ]
  },
  {
   "cell_type": "markdown",
   "id": "097070b4",
   "metadata": {},
   "source": [
    "## License\n",
    "This project is for educational use only."
   ]
  }
 ],
 "metadata": {
  "language_info": {
   "name": "python"
  }
 },
 "nbformat": 4,
 "nbformat_minor": 5
}
